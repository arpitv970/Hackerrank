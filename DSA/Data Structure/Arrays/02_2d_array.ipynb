{
 "cells": [
  {
   "cell_type": "markdown",
   "metadata": {},
   "source": [
    "# Hourglass Problem"
   ]
  },
  {
   "cell_type": "markdown",
   "metadata": {},
   "source": [
    "## 1. State the problem clearly. Identify the input & output formats.\n",
    "To find the maximum hourglass sum, first we need to calculate sum for each hourglass. Then we need to find maximum out of them.\n",
    "<br/>\n",
    "The problem can be state now as follows:\n",
    "### Problem\n",
    "> We need to WAP to find the sum of each hourglass. We also need to find out maximum sum.\n",
    "\n",
    "### Input\n",
    "1. `arr`: 2D-array of 6 X 6\n",
    "\n",
    "### Output\n",
    "1. `maxSum`: the largest (maximum) hourglass sum found in `arr`."
   ]
  },
  {
   "cell_type": "markdown",
   "metadata": {},
   "source": [
    "## 2. Come up with some example inputs & outputs. Try to cover all edge cases.\n",
    "As, `arr` is already given by question, and, size of `arr` and hourglass is always constant. Thus there is no possibility for any other special case."
   ]
  },
  {
   "cell_type": "markdown",
   "metadata": {},
   "source": [
    "## 3. Come up with a correct solution for the problem. State it in plain English.\n",
    "To solve this, we will divide the problem in two parts:\n",
    "1. To collect the sum of each hourglass in an array, say `sumArray`.\n",
    "2. To find out maximum sum from `sumArray`.\n",
    "\n",
    "Time to solve each part.\n",
    "### 1. To collect the sum of each hourglass in an array, say `sumArray`.\n",
    "In the given array of dimensions 6 X 6, the hourglass would reside in dimension of 3 X 3. So, initiator of hourglass would lie in the following region, say **initiator region**, of ✔️:\n",
    "<br/>\n",
    "|*Coordinates*|0|1|2|3|4|5|\n",
    "|:---:|:---:|:---:|:---:|:---:|:---:|:---:|\n",
    "|**0**|✔️|✔️|✔️|✔️|❌|❌|\n",
    "|**1**|✔️|✔️|✔️|✔️|❌|❌|\n",
    "|**2**|✔️|✔️|✔️|✔️|❌|❌|\n",
    "|**3**|✔️|✔️|✔️|✔️|❌|❌|\n",
    "|**4**|❌|❌|❌|❌|❌|❌|\n",
    "|**5**|❌|❌|❌|❌|❌|❌|\n",
    "\n",
    "Now we assume a general hourglass, with its **initiator coordinates** as `(x, y)` (where, x,y ɛ **initiator region**). Thus, sum of hourglass' value would be the sum of values at indices: `(x, y)`, `(x, y + 1)`, `(x, y + 2)`, `(x + 1, y + 1)`, `(x + 2, y)`, `(x + 2, y + 1)`, `(x + 3, y + 3)`. Now store the sum in `sumArray`.\n",
    "\n",
    "### 2. To find out maximum sum from `sumArray`.\n",
    "We will use `maxSum()` function, which returns the maximum value from iterables. Thus, we would run `maxSum(sumArray)` command."
   ]
  }
 ],
 "metadata": {
  "language_info": {
   "name": "python"
  },
  "orig_nbformat": 4
 },
 "nbformat": 4,
 "nbformat_minor": 2
}
