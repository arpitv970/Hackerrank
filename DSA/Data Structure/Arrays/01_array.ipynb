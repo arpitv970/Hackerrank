{
 "cells": [
  {
   "cell_type": "markdown",
   "metadata": {},
   "source": [
    "# Array - DS"
   ]
  },
  {
   "cell_type": "markdown",
   "metadata": {},
   "source": [
    "## 1. State the problem clearly. Identify the input & output formats.\n",
    "To solve this problem, we need to write a program which reverses the array given as input from user. Thus, the problem can be stated now as follows:\n",
    "\n",
    "## Problem\n",
    "> WAP for array reversal\n",
    "\n",
    "## Input\n",
    "1. `N`: number of integers in `arr`\n",
    "2. `arr`: it would take `N` space-seperated integers as input\n",
    "\n",
    "## Output\n",
    "1. `revArray`: it would be the reversal of the orginal `arr`"
   ]
  },
  {
   "cell_type": "code",
   "execution_count": 20,
   "metadata": {},
   "outputs": [],
   "source": [
    "def reverseArray(arr):\n",
    "    pass"
   ]
  },
  {
   "cell_type": "markdown",
   "metadata": {},
   "source": [
    "## 2. Come up with some example inputs & outputs. Try to cover all edge cases.\n",
    "- `arr` is the normal array i.e. array with no expections\n",
    "- `arr` contains only one integer\n",
    "- `arr` is an empty array\n",
    "- `arr` have repeating integers\n",
    "- all integers are same in `arr`\n",
    "- *add any new case if any left*"
   ]
  },
  {
   "cell_type": "code",
   "execution_count": 21,
   "metadata": {},
   "outputs": [],
   "source": [
    "tests = []"
   ]
  },
  {
   "cell_type": "code",
   "execution_count": 22,
   "metadata": {},
   "outputs": [],
   "source": [
    "# normal array\n",
    "tests.append({\n",
    "    'input': {\n",
    "        'arr': [13, 11, 10, 7, 4, 3, 1, 0]\n",
    "    },\n",
    "    'output': [0, 1, 3, 4, 7, 10, 11, 13]\n",
    "})"
   ]
  },
  {
   "cell_type": "code",
   "execution_count": 23,
   "metadata": {},
   "outputs": [],
   "source": [
    "# contains only one integer\n",
    "tests.append({\n",
    "    'input': {\n",
    "        'arr': [3]\n",
    "    },\n",
    "    'output': [3]\n",
    "})"
   ]
  },
  {
   "cell_type": "code",
   "execution_count": 24,
   "metadata": {},
   "outputs": [],
   "source": [
    "# array is empty\n",
    "tests.append({\n",
    "    'input': {\n",
    "        'arr': []\n",
    "    },\n",
    "    'output': -1    # assuming to return -1\n",
    "})"
   ]
  },
  {
   "cell_type": "code",
   "execution_count": 25,
   "metadata": {},
   "outputs": [],
   "source": [
    "# having repeating integers\n",
    "tests.append({\n",
    "    'input': {\n",
    "        'arr': [2, 3, 3, 3, 1, 6]\n",
    "    },\n",
    "    'output': [6, 1, 3, 3, 3, 2]\n",
    "})"
   ]
  },
  {
   "cell_type": "code",
   "execution_count": 26,
   "metadata": {},
   "outputs": [],
   "source": [
    "# all integers are same\n",
    "tests.append({\n",
    "    'input': {\n",
    "        'arr': [5, 5, 5, 5, 5]\n",
    "    },\n",
    "    'output': [5, 5, 5, 5, 5]\n",
    "})"
   ]
  },
  {
   "cell_type": "code",
   "execution_count": 27,
   "metadata": {},
   "outputs": [
    {
     "data": {
      "text/plain": [
       "[{'input': {'arr': [13, 11, 10, 7, 4, 3, 1, 0]},\n",
       "  'output': [0, 1, 3, 4, 7, 10, 11, 13]},\n",
       " {'input': {'arr': [3]}, 'output': [3]},\n",
       " {'input': {'arr': []}, 'output': -1},\n",
       " {'input': {'arr': [2, 3, 3, 3, 1, 6]}, 'output': [6, 1, 3, 3, 3, 2]},\n",
       " {'input': {'arr': [5, 5, 5, 5, 5]}, 'output': [5, 5, 5, 5, 5]}]"
      ]
     },
     "execution_count": 27,
     "metadata": {},
     "output_type": "execute_result"
    }
   ],
   "source": [
    "tests"
   ]
  },
  {
   "cell_type": "markdown",
   "metadata": {},
   "source": [
    "## 3. Come up with a correct solution for the problem. State it in plain English.\n",
    "\n",
    "- To reverse `arr` we need to somehow swap the elements at the same distance from extreme of array\n",
    "- Now we need `swapElement` function for swaping\n",
    "- We need to iterate `reverseArray` function till mid of the array, while swapping exteme elements"
   ]
  },
  {
   "cell_type": "markdown",
   "metadata": {},
   "source": [
    "## 4. Implement the solution and test it using example inputs. Fix bugs, if any.\n",
    "Here is its first implementation of this function"
   ]
  },
  {
   "cell_type": "code",
   "execution_count": null,
   "metadata": {},
   "outputs": [],
   "source": [
    "# function to swap extreme elements\n",
    "def swapElements(x, y):\n",
    "    # creating container variable\n",
    "    temp = x\n",
    "    x = y\n",
    "    y = temp\n",
    "\n",
    "# function to reverse array\n",
    "def reverseArray(count, arr):\n",
    "    # loop for iteration array till its mid\n",
    "    for i in range(count//2):\n",
    "        revArray = swapElements(arr[i], arr[count - i - 1])\n",
    "    return revArray"
   ]
  }
 ],
 "metadata": {
  "interpreter": {
   "hash": "3e702569097edf45a6ec0f6f6143ae3522dc2aad4a3472ef5b4c59cd1069b7eb"
  },
  "kernelspec": {
   "display_name": "Python 3.10.0 64-bit",
   "language": "python",
   "name": "python3"
  },
  "language_info": {
   "codemirror_mode": {
    "name": "ipython",
    "version": 3
   },
   "file_extension": ".py",
   "mimetype": "text/x-python",
   "name": "python",
   "nbconvert_exporter": "python",
   "pygments_lexer": "ipython3",
   "version": "3.10.0"
  },
  "orig_nbformat": 4
 },
 "nbformat": 4,
 "nbformat_minor": 2
}
